{
 "cells": [
  {
   "cell_type": "markdown",
   "id": "0d5035b5",
   "metadata": {},
   "source": [
    "# Tupla\n",
    "\n",
    "## Aula 8.2"
   ]
  },
  {
   "cell_type": "markdown",
   "id": "0bdece85",
   "metadata": {},
   "source": [
    "### Q1. \n",
    "\n",
    "Escreva uma função ```calcula_area_perimetro``` que recebe **apenas um parâmetro** ```dimensoes``` e calcula a área e o perímetro a partir das dimensões dadas. \n",
    "- ```dimensoes``` é uma tupla (largura, comprimento) com as dimensões de um terreno retangular\n",
    "- Sua função deve calcular e retornar as seguintes operações\n",
    "   - $area = largura \\times comprimento$\n",
    "   - $perimetro = 2\\times(largura + comprimento)$\n"
   ]
  },
  {
   "cell_type": "code",
   "execution_count": 3,
   "id": "0a258eba",
   "metadata": {},
   "outputs": [],
   "source": [
    "# Implemente aqui a função calcula_area_perimetro\n",
    "def calcula_area_perimetro(dimensoes):\n",
    "    area = dimensoes[0] * dimensoes[1]\n",
    "    perimetro = 2 * (dimensoes[0] + dimensoes[1])\n",
    "\n",
    "    return area, perimetro"
   ]
  },
  {
   "cell_type": "code",
   "execution_count": 4,
   "id": "e1866c04",
   "metadata": {},
   "outputs": [
    {
     "name": "stdout",
     "output_type": "stream",
     "text": [
      "(35, 24) <class 'tuple'>\n"
     ]
    }
   ],
   "source": [
    "# Complete o exemplo de uso abaixo\n",
    "largura = 5\n",
    "comprimento = 7\n",
    "\n",
    "retorno = calcula_area_perimetro((largura,comprimento)) ## complete aqui a chamada da função\n",
    "print(retorno, type(retorno))"
   ]
  },
  {
   "cell_type": "markdown",
   "id": "cbdcb986",
   "metadata": {},
   "source": [
    "### Q2.\n",
    "\n",
    "Dada uma string, imprima todas as vogais que aparecem na string, bem como todos os índices onde elas ocorrem. Para isso, use a função ```enumerate```.\n"
   ]
  },
  {
   "cell_type": "code",
   "execution_count": 4,
   "id": "1f6b1f2d",
   "metadata": {},
   "outputs": [
    {
     "name": "stdout",
     "output_type": "stream",
     "text": [
      "0 : O\n",
      "3 : a\n",
      "5 : o\n",
      "8 : o\n",
      "9 : e\n",
      "10 : u\n",
      "12 : a\n",
      "15 : o\n",
      "16 : u\n",
      "18 : a\n",
      "21 : a\n",
      "23 : A\n",
      "25 : i\n",
      "27 : e\n"
     ]
    }
   ],
   "source": [
    "frase = \"O rato roeu a roupa da Alice\"\n",
    "\n",
    "# Implemente aqui sua solução\n",
    "for tupla in enumerate(frase):\n",
    "    cont, letra = tupla\n",
    "    if letra.lower() in 'aeiou':\n",
    "        print(cont,':', letra)"
   ]
  },
  {
   "cell_type": "markdown",
   "id": "8d46663f",
   "metadata": {},
   "source": [
    "### Q3.\n",
    "\n",
    "Escreva uma função em Python chamada ```ordenar_tuplas``` que recebe uma lista de tuplas, cada uma contendo o nome de um aluno e sua respectiva média, e retorna uma nova lista ordenada em ordem decrescente de médias."
   ]
  },
  {
   "cell_type": "code",
   "execution_count": 16,
   "id": "469f2e6e",
   "metadata": {},
   "outputs": [],
   "source": [
    "# Implemente aqui a função ordenar_tuplas\n",
    "def ordenar_tuplas(alunos_notas):\n",
    "\n",
    "    #iterará sobre todos os valores da lista, ordenando levando em conta o segundo valor das iterações\n",
    "    \n",
    "    alunos_notas = sorted(alunos_notas, key=lambda x: x[1], reverse=True)\n",
    "    \n",
    "    return alunos_notas"
   ]
  },
  {
   "cell_type": "code",
   "execution_count": 17,
   "id": "1972c62b",
   "metadata": {},
   "outputs": [
    {
     "name": "stdout",
     "output_type": "stream",
     "text": [
      "[('Charlie', 9.0), ('David', 8.8), ('Alice', 8.5), ('Bob', 7.2)]\n"
     ]
    }
   ],
   "source": [
    "# Exemplo de uso:\n",
    "alunos_notas = [('Alice', 8.5), ('Bob', 7.2), ('Charlie', 9.0), ('David', 8.8)]\n",
    "resultado = ordenar_tuplas(alunos_notas)\n",
    "print(resultado)\n",
    "# Saída esperada: [('Charlie', 9.0), ('David', 8.8), ('Alice', 8.5), ('Bob', 7.2)]"
   ]
  },
  {
   "cell_type": "markdown",
   "id": "e0268fae",
   "metadata": {},
   "source": [
    "### Q4.\n",
    "\n",
    "Escreva uma função em Python chamada ```comprimir_tuplas``` que recebe uma lista de tuplas, cada uma contendo uma palavra e um número, e retorna uma nova lista de tuplas onde palavras idênticas são agrupadas e seus números são somados.\n",
    "\n"
   ]
  },
  {
   "cell_type": "code",
   "execution_count": 23,
   "id": "30a221f3",
   "metadata": {},
   "outputs": [],
   "source": [
    "# Implemente aqui a função comprimir_tuplas\n",
    "def comprimir_tuplas(tuplas_originais):\n",
    "    resultado = []\n",
    "    iterador = 0\n",
    "    for i in tuplas_originais:\n",
    "\n",
    "        #resetando a fruta e número atual\n",
    "        fruta, num = '', 0\n",
    "\n",
    "        #checar se a fruta não está no resultado\n",
    "        if i[0] not in [x[0] for x in resultado]:\n",
    "\n",
    "            #atualizando variável\n",
    "            fruta = i[0]\n",
    "\n",
    "            #somar com todas as ocorrências da fruta\n",
    "            for j in tuplas_originais:\n",
    "                if j[0] == i[0]:\n",
    "                    num += j[1]\n",
    "\n",
    "            #criar uma tupla com os dados coletados\n",
    "            dados = (fruta, num)\n",
    "\n",
    "            #adicionar dados ao resultado\n",
    "            resultado.append(dados)\n",
    "    return resultado"
   ]
  },
  {
   "cell_type": "code",
   "execution_count": 24,
   "id": "80972bac",
   "metadata": {},
   "outputs": [
    {
     "name": "stdout",
     "output_type": "stream",
     "text": [
      "[('maçã', 8), ('banana', 5), ('laranja', 1)]\n"
     ]
    }
   ],
   "source": [
    "# Exemplo de uso:\n",
    "tuplas_originais = [('maçã', 3), ('banana', 2), ('maçã', 5), ('laranja', 1), ('banana', 3)]\n",
    "resultado = comprimir_tuplas(tuplas_originais)\n",
    "print(resultado)\n",
    "# Saída esperada: [('maçã', 8), ('banana', 5), ('laranja', 1)]"
   ]
  },
  {
   "cell_type": "markdown",
   "id": "649a5082",
   "metadata": {},
   "source": [
    "### Q5. \n",
    "\n",
    "- Escreva um script que peça o nome e a idade de todos na fila de uma balada. Crie uma lista de tuplas com os pares ```(nome, idade)``` de cada um. \n",
    "- Em seguida crie e imprima duas tuplas apenas com os nomes, uma com os menores de idade que não poderão entrar, e uma com os maiores de idade (```idade >= 18```). \n",
    "\n"
   ]
  },
  {
   "cell_type": "code",
   "execution_count": 29,
   "id": "47cb0573",
   "metadata": {},
   "outputs": [
    {
     "name": "stdin",
     "output_type": "stream",
     "text": [
      "Tem quantas pessoas na fila?:  3\n",
      "nome:  Rodolfo\n",
      "idade:  56\n",
      "nome:  Pedrinho\n",
      "idade:  12\n",
      "nome:  Roberto\n",
      "idade:  18\n"
     ]
    },
    {
     "name": "stdout",
     "output_type": "stream",
     "text": [
      "[['Rodolfo', 'Roberto']]\n"
     ]
    }
   ],
   "source": [
    "## Implemente aqui sua solução\n",
    "quanti_pessoas_fila = int(input('Tem quantas pessoas na fila?: '))\n",
    "\n",
    "lista = []\n",
    "for i in range(quanti_pessoas_fila):\n",
    "    \n",
    "    nome = input('nome: ')\n",
    "    idade = int(input('idade: '))\n",
    "    \n",
    "    dados = (nome, idade)\n",
    "    lista.append(dados)\n",
    "\n",
    "permitidos = []\n",
    "permitidos.append([i[0] for i in lista if i[1] >= 18])\n",
    "\n",
    "print(permitidos)"
   ]
  },
  {
   "cell_type": "code",
   "execution_count": null,
   "id": "c993d206-13cb-4245-bb3b-5e63e6601d14",
   "metadata": {},
   "outputs": [],
   "source": []
  }
 ],
 "metadata": {
  "kernelspec": {
   "display_name": "Python 3 (ipykernel)",
   "language": "python",
   "name": "python3"
  },
  "language_info": {
   "codemirror_mode": {
    "name": "ipython",
    "version": 3
   },
   "file_extension": ".py",
   "mimetype": "text/x-python",
   "name": "python",
   "nbconvert_exporter": "python",
   "pygments_lexer": "ipython3",
   "version": "3.12.2"
  }
 },
 "nbformat": 4,
 "nbformat_minor": 5
}
